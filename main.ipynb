{
 "cells": [
  {
   "cell_type": "code",
   "execution_count": null,
   "metadata": {},
   "outputs": [],
   "source": [
    "from rich import print as rprint\n",
    "\n",
    "import arff\n",
    "\n",
    "\n",
    "\n",
    "import numpy as np\n",
    "import pandas as pd\n",
    "\n",
    "\n",
    "\n",
    "import matplotlib.pyplot as plt\n",
    "\n",
    "\n",
    "from IPython.core.interactiveshell import InteractiveShell\n",
    "\n",
    "\n",
    "InteractiveShell.ast_node_interactivity = \"all\"\n",
    "pd.set_option(\"display.precision\", 2)\n"
   ]
  },
  {
   "cell_type": "markdown",
   "metadata": {},
   "source": [
    "### Explorative Datenanalyse\n",
    "\n",
    "Der zweite Vertrag hat sechs Verträge mehr als der erste Vertrag.\n"
   ]
  },
  {
   "cell_type": "code",
   "execution_count": null,
   "metadata": {},
   "outputs": [],
   "source": [
    "df = pd.read_csv(\"ins_claims.csv\", index_col=0)\n",
    "\n",
    "rprint(df.info())\n",
    "\n",
    "df.describe(include=[\"float64\", \"object\"])\n"
   ]
  },
  {
   "cell_type": "code",
   "execution_count": null,
   "metadata": {},
   "outputs": [],
   "source": [
    "up_lim = df[\"ClaimAmount\"].quantile(0.995)\n",
    "df = df[df[\"ClaimAmount\"] < up_lim]\n",
    "\n",
    "for key_ in df.columns:\n",
    "    df.plot.scatter(x=\"IDpol\", y=key_)\n"
   ]
  },
  {
   "cell_type": "code",
   "execution_count": 14,
   "metadata": {},
   "outputs": [
    {
     "data": {
      "text/html": [
       "<div>\n",
       "<style scoped>\n",
       "    .dataframe tbody tr th:only-of-type {\n",
       "        vertical-align: middle;\n",
       "    }\n",
       "\n",
       "    .dataframe tbody tr th {\n",
       "        vertical-align: top;\n",
       "    }\n",
       "\n",
       "    .dataframe thead th {\n",
       "        text-align: right;\n",
       "    }\n",
       "</style>\n",
       "<table border=\"1\" class=\"dataframe\">\n",
       "  <thead>\n",
       "    <tr style=\"text-align: right;\">\n",
       "      <th></th>\n",
       "      <th>IDpol</th>\n",
       "      <th>ClaimAmount</th>\n",
       "      <th>ClaimNb</th>\n",
       "      <th>Exposure</th>\n",
       "      <th>VehPower</th>\n",
       "      <th>VehAge</th>\n",
       "      <th>DrivAge</th>\n",
       "      <th>BonusMalus</th>\n",
       "      <th>Density</th>\n",
       "    </tr>\n",
       "  </thead>\n",
       "  <tbody>\n",
       "    <tr>\n",
       "      <th>IDpol</th>\n",
       "      <td>1.00</td>\n",
       "      <td>-2.22e-01</td>\n",
       "      <td>4.43e-02</td>\n",
       "      <td>-1.02e-01</td>\n",
       "      <td>4.35e-02</td>\n",
       "      <td>-0.06</td>\n",
       "      <td>0.02</td>\n",
       "      <td>-0.04</td>\n",
       "      <td>0.06</td>\n",
       "    </tr>\n",
       "    <tr>\n",
       "      <th>ClaimAmount</th>\n",
       "      <td>-0.22</td>\n",
       "      <td>1.00e+00</td>\n",
       "      <td>6.49e-03</td>\n",
       "      <td>2.11e-02</td>\n",
       "      <td>-2.33e-02</td>\n",
       "      <td>0.03</td>\n",
       "      <td>0.06</td>\n",
       "      <td>0.12</td>\n",
       "      <td>-0.03</td>\n",
       "    </tr>\n",
       "    <tr>\n",
       "      <th>ClaimNb</th>\n",
       "      <td>0.04</td>\n",
       "      <td>6.49e-03</td>\n",
       "      <td>1.00e+00</td>\n",
       "      <td>-4.32e-03</td>\n",
       "      <td>-4.72e-03</td>\n",
       "      <td>-0.02</td>\n",
       "      <td>-0.02</td>\n",
       "      <td>0.02</td>\n",
       "      <td>0.03</td>\n",
       "    </tr>\n",
       "    <tr>\n",
       "      <th>Exposure</th>\n",
       "      <td>-0.10</td>\n",
       "      <td>2.11e-02</td>\n",
       "      <td>-4.32e-03</td>\n",
       "      <td>1.00e+00</td>\n",
       "      <td>-1.98e-02</td>\n",
       "      <td>-0.03</td>\n",
       "      <td>0.20</td>\n",
       "      <td>-0.16</td>\n",
       "      <td>-0.08</td>\n",
       "    </tr>\n",
       "    <tr>\n",
       "      <th>VehPower</th>\n",
       "      <td>0.04</td>\n",
       "      <td>-2.33e-02</td>\n",
       "      <td>-4.72e-03</td>\n",
       "      <td>-1.98e-02</td>\n",
       "      <td>1.00e+00</td>\n",
       "      <td>-0.01</td>\n",
       "      <td>0.02</td>\n",
       "      <td>-0.06</td>\n",
       "      <td>0.02</td>\n",
       "    </tr>\n",
       "    <tr>\n",
       "      <th>VehAge</th>\n",
       "      <td>-0.06</td>\n",
       "      <td>3.11e-02</td>\n",
       "      <td>-1.51e-02</td>\n",
       "      <td>-2.84e-02</td>\n",
       "      <td>-1.34e-02</td>\n",
       "      <td>1.00</td>\n",
       "      <td>-0.07</td>\n",
       "      <td>0.13</td>\n",
       "      <td>-0.06</td>\n",
       "    </tr>\n",
       "    <tr>\n",
       "      <th>DrivAge</th>\n",
       "      <td>0.02</td>\n",
       "      <td>6.11e-02</td>\n",
       "      <td>-1.90e-02</td>\n",
       "      <td>1.97e-01</td>\n",
       "      <td>2.10e-02</td>\n",
       "      <td>-0.07</td>\n",
       "      <td>1.00</td>\n",
       "      <td>-0.45</td>\n",
       "      <td>-0.03</td>\n",
       "    </tr>\n",
       "    <tr>\n",
       "      <th>BonusMalus</th>\n",
       "      <td>-0.04</td>\n",
       "      <td>1.16e-01</td>\n",
       "      <td>1.57e-02</td>\n",
       "      <td>-1.64e-01</td>\n",
       "      <td>-6.25e-02</td>\n",
       "      <td>0.13</td>\n",
       "      <td>-0.45</td>\n",
       "      <td>1.00</td>\n",
       "      <td>0.09</td>\n",
       "    </tr>\n",
       "    <tr>\n",
       "      <th>Density</th>\n",
       "      <td>0.06</td>\n",
       "      <td>-3.29e-02</td>\n",
       "      <td>3.43e-02</td>\n",
       "      <td>-7.70e-02</td>\n",
       "      <td>1.68e-02</td>\n",
       "      <td>-0.06</td>\n",
       "      <td>-0.03</td>\n",
       "      <td>0.09</td>\n",
       "      <td>1.00</td>\n",
       "    </tr>\n",
       "  </tbody>\n",
       "</table>\n",
       "</div>"
      ],
      "text/plain": [
       "             IDpol  ClaimAmount   ClaimNb  Exposure  VehPower  VehAge  \\\n",
       "IDpol         1.00    -2.22e-01  4.43e-02 -1.02e-01  4.35e-02   -0.06   \n",
       "ClaimAmount  -0.22     1.00e+00  6.49e-03  2.11e-02 -2.33e-02    0.03   \n",
       "ClaimNb       0.04     6.49e-03  1.00e+00 -4.32e-03 -4.72e-03   -0.02   \n",
       "Exposure     -0.10     2.11e-02 -4.32e-03  1.00e+00 -1.98e-02   -0.03   \n",
       "VehPower      0.04    -2.33e-02 -4.72e-03 -1.98e-02  1.00e+00   -0.01   \n",
       "VehAge       -0.06     3.11e-02 -1.51e-02 -2.84e-02 -1.34e-02    1.00   \n",
       "DrivAge       0.02     6.11e-02 -1.90e-02  1.97e-01  2.10e-02   -0.07   \n",
       "BonusMalus   -0.04     1.16e-01  1.57e-02 -1.64e-01 -6.25e-02    0.13   \n",
       "Density       0.06    -3.29e-02  3.43e-02 -7.70e-02  1.68e-02   -0.06   \n",
       "\n",
       "             DrivAge  BonusMalus  Density  \n",
       "IDpol           0.02       -0.04     0.06  \n",
       "ClaimAmount     0.06        0.12    -0.03  \n",
       "ClaimNb        -0.02        0.02     0.03  \n",
       "Exposure        0.20       -0.16    -0.08  \n",
       "VehPower        0.02       -0.06     0.02  \n",
       "VehAge         -0.07        0.13    -0.06  \n",
       "DrivAge         1.00       -0.45    -0.03  \n",
       "BonusMalus     -0.45        1.00     0.09  \n",
       "Density        -0.03        0.09     1.00  "
      ]
     },
     "execution_count": 14,
     "metadata": {},
     "output_type": "execute_result"
    }
   ],
   "source": [
    "df_sev = df[df[\"ClaimAmount\"] > 0]\n",
    "df_sev.corr(numeric_only=True)\n"
   ]
  },
  {
   "cell_type": "code",
   "execution_count": null,
   "metadata": {
    "slideshow": {
     "slide_type": "slide"
    }
   },
   "outputs": [],
   "source": [
    "rprint(sum(df[\"ClaimAmount\"] > 0.0) / df.shape[0])\n",
    "rprint(sum(df[\"ClaimNb\"] > 0.0) / df.shape[0])\n"
   ]
  },
  {
   "cell_type": "markdown",
   "metadata": {},
   "source": [
    "## Feature Engineering\n"
   ]
  },
  {
   "cell_type": "markdown",
   "metadata": {},
   "source": [
    "## Modellvergleich\n"
   ]
  },
  {
   "cell_type": "markdown",
   "metadata": {},
   "source": [
    "## Modellbuilding\n"
   ]
  }
 ],
 "metadata": {
  "kernelspec": {
   "display_name": "env",
   "language": "python",
   "name": "python3"
  },
  "language_info": {
   "codemirror_mode": {
    "name": "ipython",
    "version": 3
   },
   "file_extension": ".py",
   "mimetype": "text/x-python",
   "name": "python",
   "nbconvert_exporter": "python",
   "pygments_lexer": "ipython3",
   "version": "3.12.0"
  }
 },
 "nbformat": 4,
 "nbformat_minor": 2
}
