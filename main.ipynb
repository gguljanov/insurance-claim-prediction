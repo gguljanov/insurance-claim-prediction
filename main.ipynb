{
 "cells": [
  {
   "cell_type": "code",
   "execution_count": null,
   "metadata": {},
   "outputs": [],
   "source": [
    "from rich import print as rprint\n",
    "import arff\n",
    "import numpy as np\n",
    "import pandas as pd\n",
    "import matplotlib.pyplot as plt\n",
    "\n",
    "import main\n",
    "\n",
    "from IPython.core.interactiveshell import InteractiveShell\n",
    "\n",
    "InteractiveShell.ast_node_interactivity = \"all\"\n",
    "pd.set_option(\"display.precision\", 2)\n"
   ]
  },
  {
   "cell_type": "markdown",
   "metadata": {
    "slideshow": {
     "slide_type": "fragment"
    }
   },
   "source": [
    "## Explorative Datenanalyse\n",
    "\n",
    "-   Der zweite Vertrag hat sechs Verträge mehr als der erste Vertrag.\n"
   ]
  },
  {
   "cell_type": "code",
   "execution_count": null,
   "metadata": {},
   "outputs": [],
   "source": [
    "df = pd.read_csv(\"ins_claims.csv\", index_col=0)\n",
    "\n",
    "rprint(df.info())\n"
   ]
  },
  {
   "cell_type": "markdown",
   "metadata": {},
   "source": [
    "-   Beschreibung der Variablen\n"
   ]
  },
  {
   "cell_type": "code",
   "execution_count": null,
   "metadata": {},
   "outputs": [],
   "source": [
    "df.describe(include=[\"float64\", \"object\"])\n"
   ]
  },
  {
   "cell_type": "markdown",
   "metadata": {},
   "source": [
    "-   Korrelations zwischen unabhängigen Variablen\n"
   ]
  },
  {
   "cell_type": "code",
   "execution_count": null,
   "metadata": {},
   "outputs": [],
   "source": [
    "df[df[\"ClaimAmount\"] > 0].corr(numeric_only=True)\n"
   ]
  },
  {
   "cell_type": "markdown",
   "metadata": {},
   "source": [
    "### ClaimAmount und ClaimAmount/Exposure\n",
    "\n",
    "-   Viele Nullen für `ClaimAmount`\n"
   ]
  },
  {
   "cell_type": "code",
   "execution_count": null,
   "metadata": {},
   "outputs": [],
   "source": [
    "rprint(sum(df[\"ClaimAmount\"] > 0.0) / df.shape[0])\n",
    "rprint(sum(df[\"ClaimNb\"] > 0.0) / df.shape[0])\n"
   ]
  },
  {
   "cell_type": "markdown",
   "metadata": {},
   "source": [
    "-   Outliers\n"
   ]
  },
  {
   "cell_type": "code",
   "execution_count": null,
   "metadata": {},
   "outputs": [],
   "source": [
    "# Remove zeros and outliers\n",
    "up_lim = df[\"ClaimAmount\"].quantile(0.995)\n",
    "\n",
    "logical_vec = (df[\"ClaimAmount\"] > 0.0) * (df[\"ClaimAmount\"] < up_lim)\n",
    "\n",
    "df_sev = df[logical_vec]\n",
    "\n",
    "df_sev.insert(\n",
    "    loc=0, column=\"ClaimExp\", value=df_sev[\"ClaimAmount\"] / df_sev[\"Exposure\"]\n",
    ")\n",
    "\n",
    "# Plot\n",
    "fig, axs = plt.subplots(2, 2, figsize=(10, 10))\n",
    "\n",
    "# Plot ClaimAmount\n",
    "df_sev.plot.scatter(\n",
    "    x=\"IDpol\",\n",
    "    y=\"ClaimAmount\",\n",
    "    marker=\".\",\n",
    "    alpha=0.1,\n",
    "    linewidth=0.5,\n",
    "    ax=axs[0, 0],\n",
    ")\n",
    "\n",
    "df_sev.hist(column=\"ClaimAmount\", bins=50, ax=axs[0, 1])\n",
    "\n",
    "# Plot Claim per Exposure Year\n",
    "df_sev.plot.scatter(\n",
    "    x=\"IDpol\", y=\"ClaimExp\", marker=\".\", alpha=0.1, linewidth=0.5, ax=axs[1, 0]\n",
    ")\n",
    "\n",
    "df_sev.hist(column=\"ClaimExp\", bins=50, ax=axs[1, 1])\n"
   ]
  },
  {
   "cell_type": "markdown",
   "metadata": {},
   "source": [
    "-   Scatter plot\n"
   ]
  },
  {
   "cell_type": "markdown",
   "metadata": {},
   "source": [
    "### ClaimNb und Density\n"
   ]
  },
  {
   "cell_type": "code",
   "execution_count": null,
   "metadata": {},
   "outputs": [],
   "source": [
    "fig, axs = plt.subplots(2, 2, figsize=(10, 10))\n",
    "\n",
    "# Vehicle Brand\n",
    "df.hist(column=\"ClaimNb\", bins=40, ax=axs[0, 0])\n",
    "df.plot.scatter(\n",
    "    x=\"IDpol\", y=\"ClaimNb\", marker=\".\", alpha=0.1, linewidth=0.5, ax=axs[0, 1]\n",
    ")\n",
    "\n",
    "df.hist(column=\"Density\", bins=10, ax=axs[1, 0])\n",
    "df.plot.scatter(x=\"IDpol\", y=\"Density\", marker=\".\", alpha=0.1, ax=axs[1, 1])\n"
   ]
  },
  {
   "cell_type": "markdown",
   "metadata": {},
   "source": [
    "### DrivAge, VehAge, VehPower and BonusMalus\n"
   ]
  },
  {
   "cell_type": "code",
   "execution_count": null,
   "metadata": {},
   "outputs": [],
   "source": [
    "df.hist(\n",
    "    column=[\"DrivAge\", \"VehAge\", \"VehPower\", \"BonusMalus\"],\n",
    "    bins=30,\n",
    "    layout=(3, 2),\n",
    "    figsize=(10, 10),\n",
    ")\n"
   ]
  },
  {
   "cell_type": "markdown",
   "metadata": {},
   "source": [
    "### Area and Region\n"
   ]
  },
  {
   "cell_type": "code",
   "execution_count": null,
   "metadata": {},
   "outputs": [],
   "source": [
    "fig, axs = plt.subplots(2, 2, figsize=(10, 10))\n",
    "\n",
    "# Area\n",
    "df[[\"Area\"]].groupby(\"Area\").size().plot(kind=\"bar\", ax=axs[0, 0])\n",
    "\n",
    "df[[\"Area\", \"ClaimAmount\"]].groupby(\"Area\").mean().plot(\n",
    "    kind=\"bar\", ax=axs[0, 1]\n",
    ")\n",
    "\n",
    "# Region\n",
    "df[[\"Region\"]].groupby(\"Region\").size().plot(kind=\"bar\", ax=axs[1, 0])\n",
    "\n",
    "df[[\"Region\", \"ClaimAmount\"]].groupby(\"Region\").mean().plot(\n",
    "    kind=\"bar\", ax=axs[1, 1]\n",
    ")\n"
   ]
  },
  {
   "cell_type": "markdown",
   "metadata": {},
   "source": [
    "fig, (ax1, ax2) = plt.subplots(1, 2)\n",
    "\n",
    "df.groupby(\"Area\").size().plot(kind=\"bar\", ax=ax1)\n",
    "\n",
    "df[[\"Area\", \"ClaimAmount\"]].groupby(\"Area\").mean().plot(kind=\"bar\", ax=ax2)\n"
   ]
  },
  {
   "cell_type": "markdown",
   "metadata": {},
   "source": [
    "### Vehicle Brand and Vehicle Gas-Type\n"
   ]
  },
  {
   "cell_type": "code",
   "execution_count": null,
   "metadata": {},
   "outputs": [],
   "source": [
    "fig, axs = plt.subplots(2, 2, figsize=(10, 10))\n",
    "\n",
    "# Vehicle Brand\n",
    "df[[\"VehBrand\"]].groupby(\"VehBrand\").size().plot(kind=\"bar\", ax=axs[0, 0])\n",
    "\n",
    "df[[\"VehBrand\", \"ClaimAmount\"]].groupby(\"VehBrand\").mean().plot(\n",
    "    kind=\"bar\", ax=axs[0, 1]\n",
    ")\n",
    "\n",
    "# Vehicle Gas-Type\n",
    "df[[\"VehGas\"]].groupby(\"VehGas\").size().plot(kind=\"bar\", ax=axs[1, 0])\n",
    "\n",
    "df[[\"VehGas\", \"ClaimAmount\"]].groupby(\"VehGas\").mean().plot(\n",
    "    kind=\"bar\", ax=axs[1, 1]\n",
    ")\n"
   ]
  },
  {
   "cell_type": "markdown",
   "metadata": {},
   "source": [
    "## Feature engineering\n"
   ]
  },
  {
   "cell_type": "markdown",
   "metadata": {},
   "source": [
    "-   `load_csv()` function in `main.py`\n"
   ]
  },
  {
   "cell_type": "markdown",
   "metadata": {},
   "source": [
    "## Modellvergleich\n"
   ]
  },
  {
   "cell_type": "markdown",
   "metadata": {},
   "source": [
    "-   `obj.score()` method\n",
    "-   RMSE\n"
   ]
  },
  {
   "cell_type": "markdown",
   "metadata": {},
   "source": [
    "## Modellbuilding\n"
   ]
  },
  {
   "cell_type": "markdown",
   "metadata": {},
   "source": [
    "-   Generalized Linear Models (GLM)\n",
    "-   Generalized Additive Models (GAM)\n",
    "-   Tree based\n",
    "-   Neural Networks\n",
    "\n",
    "-   Yang, Qian, Zou (2018), namens \"Insurance premium prediction via gradient tree-boosted Tweedie compound Poisson models\"\n"
   ]
  },
  {
   "cell_type": "markdown",
   "metadata": {},
   "source": [
    "##### Frequency-Severity Decomposition\n",
    "\n",
    "-   Poisson regression für `ClaimNb` und Gamma regression für `ClaimAmount` pro Claim\n",
    "-   Claim Frequency ist einfacher zu modellieren\n",
    "-   Claim Severity ist schwierig\n",
    "-   Man kann nicht kontrollieren wie viel Schaden es geben wird\n",
    "-   \"Overall, the modeling of claim amounts is more difficult than claim frequencies\" Deinut, et. al. (2019), p18\n",
    "\n",
    "##### Nulls\n",
    "\n",
    "-   Tweedie regression\n",
    "-   Erstens Classification, dann Modellierung\n",
    "    -   Codes mit perfekter Klassifikation\n",
    "\n",
    "##### Outliers\n",
    "\n",
    "-   $p$ für Outliers and $1-p$ für nicht Outliers\n"
   ]
  }
 ],
 "metadata": {
  "kernelspec": {
   "display_name": "Python 3 (ipykernel)",
   "language": "python",
   "name": "python3"
  },
  "language_info": {
   "codemirror_mode": {
    "name": "ipython",
    "version": 3
   },
   "file_extension": ".py",
   "mimetype": "text/x-python",
   "name": "python",
   "nbconvert_exporter": "python",
   "pygments_lexer": "ipython3",
   "version": "3.12.0"
  }
 },
 "nbformat": 4,
 "nbformat_minor": 4
}
